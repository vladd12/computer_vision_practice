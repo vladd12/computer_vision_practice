{
 "cells": [
  {
   "cell_type": "code",
   "execution_count": 1,
   "metadata": {},
   "outputs": [],
   "source": [
    "# Работающая нейросеть\n",
    "\n",
    "# Импорт\n",
    "from __future__ import absolute_import, division, print_function, unicode_literals\n",
    "import numpy as np\n",
    "import pandas as pd\n",
    "import tensorflow as tf\n",
    "from tensorflow import feature_column\n",
    "from tensorflow.keras import layers"
   ]
  },
  {
   "cell_type": "code",
   "execution_count": 2,
   "metadata": {},
   "outputs": [],
   "source": [
    "# Пути для тренировочных файлов\n",
    "path1 = r\"./har_dataset/train/file.txt\"\n",
    "path2 = r\"./har_dataset/train/outfile.txt\"\n",
    "path3 = r\"./har_dataset/train/new_train.txt\" # Итоговый файл с тренировочными данными\n",
    "\n",
    "# Пути для тестовых данных\n",
    "path4 = r\"./har_dataset/test/file.txt\"\n",
    "path5 = r\"./har_dataset/test/outfile.txt\"\n",
    "path6 = r\"./har_dataset/test/new_test.txt\" # Итоговый файл с тестовыми данными\n",
    "\n",
    "# Путь до списка признаков\n",
    "path_features_file = r\"./har_dataset/features.txt\"\n",
    "\n",
    "# Пути к файлам лейблов\n",
    "path_train_labels = r\"./har_dataset/train/y_train.txt\"\n",
    "path_test_labels = r\"./har_dataset/test/y_test.txt\"\n",
    "final_train_labels = r\"./har_dataset/train/y_train_fin.txt\"\n",
    "final_test_labels = r\"./har_dataset/test/y_test_fin.txt\""
   ]
  },
  {
   "cell_type": "code",
   "execution_count": 3,
   "metadata": {},
   "outputs": [],
   "source": [
    "# Дополнительные функции для обработки файлов\n",
    "\n",
    "# Функция удаления лишних символов из входного файла\n",
    "def cleaning_func(path_file, out_path_file, new_path_file):\n",
    "    fin = open(path_file, 'r')\n",
    "    fout = open(out_path_file, 'w')\n",
    "    lines = fin.readlines()\n",
    "    for line in lines:\n",
    "        fout.write(line[2:])\n",
    "    fout.close()\n",
    "    fin.close()\n",
    "    fout = open(out_path_file, 'r')\n",
    "    new = open(new_path_file, 'w')\n",
    "    lines = fout.readlines()\n",
    "    for line in lines:\n",
    "        new.write(\" \".join(line.split()) + \"\\n\")\n",
    "    fout.close()\n",
    "    new.close()\n",
    "\n",
    "# Функция, печатающая список признаков из файла \n",
    "def features_string(path_features_file):\n",
    "    features_dict = {}\n",
    "    with open(path_features_file) as file:\n",
    "        for line in file:\n",
    "            key, *value = line.split()\n",
    "            features_dict[key] = value\n",
    "    string = \"\"\n",
    "    for i in range(1, 562):\n",
    "        string = string + (features_dict[str(i)])[0] + \" \"\n",
    "    return(string)\n",
    "\n",
    "# Функция уменьшения лейблов\n",
    "# (переход от системы 1-6 к 0-5 системе)\n",
    "def labels_decrease(in_lbl, out_lbl):\n",
    "    f_in = open(in_lbl, 'r')\n",
    "    f_out = open(out_lbl, 'w')\n",
    "    lines = f_in.readlines()\n",
    "    for line in lines:\n",
    "        f_out.write(str(int(line)-1) + '\\n')\n",
    "    f_out.close()\n",
    "    f_in.close()"
   ]
  },
  {
   "cell_type": "code",
   "execution_count": 22,
   "metadata": {
    "collapsed": true
   },
   "outputs": [
    {
     "name": "stdout",
     "output_type": "stream",
     "text": [
      "tBodyAcc-mean()-X tBodyAcc-mean()-Y tBodyAcc-mean()-Z tBodyAcc-std()-X tBodyAcc-std()-Y tBodyAcc-std()-Z tBodyAcc-mad()-X tBodyAcc-mad()-Y tBodyAcc-mad()-Z tBodyAcc-max()-X tBodyAcc-max()-Y tBodyAcc-max()-Z tBodyAcc-min()-X tBodyAcc-min()-Y tBodyAcc-min()-Z tBodyAcc-sma() tBodyAcc-energy()-X tBodyAcc-energy()-Y tBodyAcc-energy()-Z tBodyAcc-iqr()-X tBodyAcc-iqr()-Y tBodyAcc-iqr()-Z tBodyAcc-entropy()-X tBodyAcc-entropy()-Y tBodyAcc-entropy()-Z tBodyAcc-arCoeff()-X,1 tBodyAcc-arCoeff()-X,2 tBodyAcc-arCoeff()-X,3 tBodyAcc-arCoeff()-X,4 tBodyAcc-arCoeff()-Y,1 tBodyAcc-arCoeff()-Y,2 tBodyAcc-arCoeff()-Y,3 tBodyAcc-arCoeff()-Y,4 tBodyAcc-arCoeff()-Z,1 tBodyAcc-arCoeff()-Z,2 tBodyAcc-arCoeff()-Z,3 tBodyAcc-arCoeff()-Z,4 tBodyAcc-correlation()-X,Y tBodyAcc-correlation()-X,Z tBodyAcc-correlation()-Y,Z tGravityAcc-mean()-X tGravityAcc-mean()-Y tGravityAcc-mean()-Z tGravityAcc-std()-X tGravityAcc-std()-Y tGravityAcc-std()-Z tGravityAcc-mad()-X tGravityAcc-mad()-Y tGravityAcc-mad()-Z tGravityAcc-max()-X tGravityAcc-max()-Y tGravityAcc-max()-Z tGravityAcc-min()-X tGravityAcc-min()-Y tGravityAcc-min()-Z tGravityAcc-sma() tGravityAcc-energy()-X tGravityAcc-energy()-Y tGravityAcc-energy()-Z tGravityAcc-iqr()-X tGravityAcc-iqr()-Y tGravityAcc-iqr()-Z tGravityAcc-entropy()-X tGravityAcc-entropy()-Y tGravityAcc-entropy()-Z tGravityAcc-arCoeff()-X,1 tGravityAcc-arCoeff()-X,2 tGravityAcc-arCoeff()-X,3 tGravityAcc-arCoeff()-X,4 tGravityAcc-arCoeff()-Y,1 tGravityAcc-arCoeff()-Y,2 tGravityAcc-arCoeff()-Y,3 tGravityAcc-arCoeff()-Y,4 tGravityAcc-arCoeff()-Z,1 tGravityAcc-arCoeff()-Z,2 tGravityAcc-arCoeff()-Z,3 tGravityAcc-arCoeff()-Z,4 tGravityAcc-correlation()-X,Y tGravityAcc-correlation()-X,Z tGravityAcc-correlation()-Y,Z tBodyAccJerk-mean()-X tBodyAccJerk-mean()-Y tBodyAccJerk-mean()-Z tBodyAccJerk-std()-X tBodyAccJerk-std()-Y tBodyAccJerk-std()-Z tBodyAccJerk-mad()-X tBodyAccJerk-mad()-Y tBodyAccJerk-mad()-Z tBodyAccJerk-max()-X tBodyAccJerk-max()-Y tBodyAccJerk-max()-Z tBodyAccJerk-min()-X tBodyAccJerk-min()-Y tBodyAccJerk-min()-Z tBodyAccJerk-sma() tBodyAccJerk-energy()-X tBodyAccJerk-energy()-Y tBodyAccJerk-energy()-Z tBodyAccJerk-iqr()-X tBodyAccJerk-iqr()-Y tBodyAccJerk-iqr()-Z tBodyAccJerk-entropy()-X tBodyAccJerk-entropy()-Y tBodyAccJerk-entropy()-Z tBodyAccJerk-arCoeff()-X,1 tBodyAccJerk-arCoeff()-X,2 tBodyAccJerk-arCoeff()-X,3 tBodyAccJerk-arCoeff()-X,4 tBodyAccJerk-arCoeff()-Y,1 tBodyAccJerk-arCoeff()-Y,2 tBodyAccJerk-arCoeff()-Y,3 tBodyAccJerk-arCoeff()-Y,4 tBodyAccJerk-arCoeff()-Z,1 tBodyAccJerk-arCoeff()-Z,2 tBodyAccJerk-arCoeff()-Z,3 tBodyAccJerk-arCoeff()-Z,4 tBodyAccJerk-correlation()-X,Y tBodyAccJerk-correlation()-X,Z tBodyAccJerk-correlation()-Y,Z tBodyGyro-mean()-X tBodyGyro-mean()-Y tBodyGyro-mean()-Z tBodyGyro-std()-X tBodyGyro-std()-Y tBodyGyro-std()-Z tBodyGyro-mad()-X tBodyGyro-mad()-Y tBodyGyro-mad()-Z tBodyGyro-max()-X tBodyGyro-max()-Y tBodyGyro-max()-Z tBodyGyro-min()-X tBodyGyro-min()-Y tBodyGyro-min()-Z tBodyGyro-sma() tBodyGyro-energy()-X tBodyGyro-energy()-Y tBodyGyro-energy()-Z tBodyGyro-iqr()-X tBodyGyro-iqr()-Y tBodyGyro-iqr()-Z tBodyGyro-entropy()-X tBodyGyro-entropy()-Y tBodyGyro-entropy()-Z tBodyGyro-arCoeff()-X,1 tBodyGyro-arCoeff()-X,2 tBodyGyro-arCoeff()-X,3 tBodyGyro-arCoeff()-X,4 tBodyGyro-arCoeff()-Y,1 tBodyGyro-arCoeff()-Y,2 tBodyGyro-arCoeff()-Y,3 tBodyGyro-arCoeff()-Y,4 tBodyGyro-arCoeff()-Z,1 tBodyGyro-arCoeff()-Z,2 tBodyGyro-arCoeff()-Z,3 tBodyGyro-arCoeff()-Z,4 tBodyGyro-correlation()-X,Y tBodyGyro-correlation()-X,Z tBodyGyro-correlation()-Y,Z tBodyGyroJerk-mean()-X tBodyGyroJerk-mean()-Y tBodyGyroJerk-mean()-Z tBodyGyroJerk-std()-X tBodyGyroJerk-std()-Y tBodyGyroJerk-std()-Z tBodyGyroJerk-mad()-X tBodyGyroJerk-mad()-Y tBodyGyroJerk-mad()-Z tBodyGyroJerk-max()-X tBodyGyroJerk-max()-Y tBodyGyroJerk-max()-Z tBodyGyroJerk-min()-X tBodyGyroJerk-min()-Y tBodyGyroJerk-min()-Z tBodyGyroJerk-sma() tBodyGyroJerk-energy()-X tBodyGyroJerk-energy()-Y tBodyGyroJerk-energy()-Z tBodyGyroJerk-iqr()-X tBodyGyroJerk-iqr()-Y tBodyGyroJerk-iqr()-Z tBodyGyroJerk-entropy()-X tBodyGyroJerk-entropy()-Y tBodyGyroJerk-entropy()-Z tBodyGyroJerk-arCoeff()-X,1 tBodyGyroJerk-arCoeff()-X,2 tBodyGyroJerk-arCoeff()-X,3 tBodyGyroJerk-arCoeff()-X,4 tBodyGyroJerk-arCoeff()-Y,1 tBodyGyroJerk-arCoeff()-Y,2 tBodyGyroJerk-arCoeff()-Y,3 tBodyGyroJerk-arCoeff()-Y,4 tBodyGyroJerk-arCoeff()-Z,1 tBodyGyroJerk-arCoeff()-Z,2 tBodyGyroJerk-arCoeff()-Z,3 tBodyGyroJerk-arCoeff()-Z,4 tBodyGyroJerk-correlation()-X,Y tBodyGyroJerk-correlation()-X,Z tBodyGyroJerk-correlation()-Y,Z tBodyAccMag-mean() tBodyAccMag-std() tBodyAccMag-mad() tBodyAccMag-max() tBodyAccMag-min() tBodyAccMag-sma() tBodyAccMag-energy() tBodyAccMag-iqr() tBodyAccMag-entropy() tBodyAccMag-arCoeff()1 tBodyAccMag-arCoeff()2 tBodyAccMag-arCoeff()3 tBodyAccMag-arCoeff()4 tGravityAccMag-mean() tGravityAccMag-std() tGravityAccMag-mad() tGravityAccMag-max() tGravityAccMag-min() tGravityAccMag-sma() tGravityAccMag-energy() tGravityAccMag-iqr() tGravityAccMag-entropy() tGravityAccMag-arCoeff()1 tGravityAccMag-arCoeff()2 tGravityAccMag-arCoeff()3 tGravityAccMag-arCoeff()4 tBodyAccJerkMag-mean() tBodyAccJerkMag-std() tBodyAccJerkMag-mad() tBodyAccJerkMag-max() tBodyAccJerkMag-min() tBodyAccJerkMag-sma() tBodyAccJerkMag-energy() tBodyAccJerkMag-iqr() tBodyAccJerkMag-entropy() tBodyAccJerkMag-arCoeff()1 tBodyAccJerkMag-arCoeff()2 tBodyAccJerkMag-arCoeff()3 tBodyAccJerkMag-arCoeff()4 tBodyGyroMag-mean() tBodyGyroMag-std() tBodyGyroMag-mad() tBodyGyroMag-max() tBodyGyroMag-min() tBodyGyroMag-sma() tBodyGyroMag-energy() tBodyGyroMag-iqr() tBodyGyroMag-entropy() tBodyGyroMag-arCoeff()1 tBodyGyroMag-arCoeff()2 tBodyGyroMag-arCoeff()3 tBodyGyroMag-arCoeff()4 tBodyGyroJerkMag-mean() tBodyGyroJerkMag-std() tBodyGyroJerkMag-mad() tBodyGyroJerkMag-max() tBodyGyroJerkMag-min() tBodyGyroJerkMag-sma() tBodyGyroJerkMag-energy() tBodyGyroJerkMag-iqr() tBodyGyroJerkMag-entropy() tBodyGyroJerkMag-arCoeff()1 tBodyGyroJerkMag-arCoeff()2 tBodyGyroJerkMag-arCoeff()3 tBodyGyroJerkMag-arCoeff()4 fBodyAcc-mean()-X fBodyAcc-mean()-Y fBodyAcc-mean()-Z fBodyAcc-std()-X fBodyAcc-std()-Y fBodyAcc-std()-Z fBodyAcc-mad()-X fBodyAcc-mad()-Y fBodyAcc-mad()-Z fBodyAcc-max()-X fBodyAcc-max()-Y fBodyAcc-max()-Z fBodyAcc-min()-X fBodyAcc-min()-Y fBodyAcc-min()-Z fBodyAcc-sma() fBodyAcc-energy()-X fBodyAcc-energy()-Y fBodyAcc-energy()-Z fBodyAcc-iqr()-X fBodyAcc-iqr()-Y fBodyAcc-iqr()-Z fBodyAcc-entropy()-X fBodyAcc-entropy()-Y fBodyAcc-entropy()-Z fBodyAcc-maxInds-X fBodyAcc-maxInds-Y fBodyAcc-maxInds-Z fBodyAcc-meanFreq()-X fBodyAcc-meanFreq()-Y fBodyAcc-meanFreq()-Z fBodyAcc-skewness()-X fBodyAcc-kurtosis()-X fBodyAcc-skewness()-Y fBodyAcc-kurtosis()-Y fBodyAcc-skewness()-Z fBodyAcc-kurtosis()-Z fBodyAcc-bandsEnergy1()-1,8 fBodyAcc-bandsEnergy1()-9,16 fBodyAcc-bandsEnergy1()-17,24 fBodyAcc-bandsEnergy1()-25,32 fBodyAcc-bandsEnergy1()-33,40 fBodyAcc-bandsEnergy1()-41,48 fBodyAcc-bandsEnergy1()-49,56 fBodyAcc-bandsEnergy1()-57,64 fBodyAcc-bandsEnergy1()-1,16 fBodyAcc-bandsEnergy1()-17,32 fBodyAcc-bandsEnergy1()-33,48 fBodyAcc-bandsEnergy1()-49,64 fBodyAcc-bandsEnergy1()-1,24 fBodyAcc-bandsEnergy1()-25,48 fBodyAcc-bandsEnergy2()-1,8 fBodyAcc-bandsEnergy2()-9,16 fBodyAcc-bandsEnergy2()-17,24 fBodyAcc-bandsEnergy2()-25,32 fBodyAcc-bandsEnergy2()-33,40 fBodyAcc-bandsEnergy2()-41,48 fBodyAcc-bandsEnergy2()-49,56 fBodyAcc-bandsEnergy2()-57,64 fBodyAcc-bandsEnergy2()-1,16 fBodyAcc-bandsEnergy2()-17,32 fBodyAcc-bandsEnergy2()-33,48 fBodyAcc-bandsEnergy2()-49,64 fBodyAcc-bandsEnergy2()-1,24 fBodyAcc-bandsEnergy2()-25,48 fBodyAcc-bandsEnergy3()-1,8 fBodyAcc-bandsEnergy3()-9,16 fBodyAcc-bandsEnergy3()-17,24 fBodyAcc-bandsEnergy3()-25,32 fBodyAcc-bandsEnergy3()-33,40 fBodyAcc-bandsEnergy3()-41,48 fBodyAcc-bandsEnergy3()-49,56 fBodyAcc-bandsEnergy3()-57,64 fBodyAcc-bandsEnergy3()-1,16 fBodyAcc-bandsEnergy3()-17,32 fBodyAcc-bandsEnergy3()-33,48 fBodyAcc-bandsEnergy3()-49,64 fBodyAcc-bandsEnergy3()-1,24 fBodyAcc-bandsEnergy3()-25,48 fBodyAccJerk-mean()-X fBodyAccJerk-mean()-Y fBodyAccJerk-mean()-Z fBodyAccJerk-std()-X fBodyAccJerk-std()-Y fBodyAccJerk-std()-Z fBodyAccJerk-mad()-X fBodyAccJerk-mad()-Y fBodyAccJerk-mad()-Z fBodyAccJerk-max()-X fBodyAccJerk-max()-Y fBodyAccJerk-max()-Z fBodyAccJerk-min()-X fBodyAccJerk-min()-Y fBodyAccJerk-min()-Z fBodyAccJerk-sma() fBodyAccJerk-energy()-X fBodyAccJerk-energy()-Y fBodyAccJerk-energy()-Z fBodyAccJerk-iqr()-X fBodyAccJerk-iqr()-Y fBodyAccJerk-iqr()-Z fBodyAccJerk-entropy()-X fBodyAccJerk-entropy()-Y fBodyAccJerk-entropy()-Z fBodyAccJerk-maxInds-X fBodyAccJerk-maxInds-Y fBodyAccJerk-maxInds-Z fBodyAccJerk-meanFreq()-X fBodyAccJerk-meanFreq()-Y fBodyAccJerk-meanFreq()-Z fBodyAccJerk-skewness()-X fBodyAccJerk-kurtosis()-X fBodyAccJerk-skewness()-Y fBodyAccJerk-kurtosis()-Y fBodyAccJerk-skewness()-Z fBodyAccJerk-kurtosis()-Z fBodyAccJerk-bandsEnergy1()-1,8 fBodyAccJerk-bandsEnergy1()-9,16 fBodyAccJerk-bandsEnergy1()-17,24 fBodyAccJerk-bandsEnergy1()-25,32 fBodyAccJerk-bandsEnergy1()-33,40 fBodyAccJerk-bandsEnergy1()-41,48 fBodyAccJerk-bandsEnergy1()-49,56 fBodyAccJerk-bandsEnergy1()-57,64 fBodyAccJerk-bandsEnergy1()-1,16 fBodyAccJerk-bandsEnergy1()-17,32 fBodyAccJerk-bandsEnergy1()-33,48 fBodyAccJerk-bandsEnergy1()-49,64 fBodyAccJerk-bandsEnergy1()-1,24 fBodyAccJerk-bandsEnergy1()-25,48 fBodyAccJerk-bandsEnergy2()-1,8 fBodyAccJerk-bandsEnergy2()-9,16 fBodyAccJerk-bandsEnergy2()-17,24 fBodyAccJerk-bandsEnergy2()-25,32 fBodyAccJerk-bandsEnergy2()-33,40 fBodyAccJerk-bandsEnergy2()-41,48 fBodyAccJerk-bandsEnergy2()-49,56 fBodyAccJerk-bandsEnergy2()-57,64 fBodyAccJerk-bandsEnergy2()-1,16 fBodyAccJerk-bandsEnergy2()-17,32 fBodyAccJerk-bandsEnergy2()-33,48 fBodyAccJerk-bandsEnergy2()-49,64 fBodyAccJerk-bandsEnergy2()-1,24 fBodyAccJerk-bandsEnergy2()-25,48 fBodyAccJerk-bandsEnergy3()-1,8 fBodyAccJerk-bandsEnergy3()-9,16 fBodyAccJerk-bandsEnergy3()-17,24 fBodyAccJerk-bandsEnergy3()-25,32 fBodyAccJerk-bandsEnergy3()-33,40 fBodyAccJerk-bandsEnergy3()-41,48 fBodyAccJerk-bandsEnergy3()-49,56 fBodyAccJerk-bandsEnergy3()-57,64 fBodyAccJerk-bandsEnergy3()-1,16 fBodyAccJerk-bandsEnergy3()-17,32 fBodyAccJerk-bandsEnergy3()-33,48 fBodyAccJerk-bandsEnergy3()-49,64 fBodyAccJerk-bandsEnergy3()-1,24 fBodyAccJerk-bandsEnergy3()-25,48 fBodyGyro-mean()-X fBodyGyro-mean()-Y fBodyGyro-mean()-Z fBodyGyro-std()-X fBodyGyro-std()-Y fBodyGyro-std()-Z fBodyGyro-mad()-X fBodyGyro-mad()-Y fBodyGyro-mad()-Z fBodyGyro-max()-X fBodyGyro-max()-Y fBodyGyro-max()-Z fBodyGyro-min()-X fBodyGyro-min()-Y fBodyGyro-min()-Z fBodyGyro-sma() fBodyGyro-energy()-X fBodyGyro-energy()-Y fBodyGyro-energy()-Z fBodyGyro-iqr()-X fBodyGyro-iqr()-Y fBodyGyro-iqr()-Z fBodyGyro-entropy()-X fBodyGyro-entropy()-Y fBodyGyro-entropy()-Z fBodyGyro-maxInds-X fBodyGyro-maxInds-Y fBodyGyro-maxInds-Z fBodyGyro-meanFreq()-X fBodyGyro-meanFreq()-Y fBodyGyro-meanFreq()-Z fBodyGyro-skewness()-X fBodyGyro-kurtosis()-X fBodyGyro-skewness()-Y fBodyGyro-kurtosis()-Y fBodyGyro-skewness()-Z fBodyGyro-kurtosis()-Z fBodyGyro-bandsEnergy1()-1,8 fBodyGyro-bandsEnergy1()-9,16 fBodyGyro-bandsEnergy1()-17,24 fBodyGyro-bandsEnergy1()-25,32 fBodyGyro-bandsEnergy1()-33,40 fBodyGyro-bandsEnergy1()-41,48 fBodyGyro-bandsEnergy1()-49,56 fBodyGyro-bandsEnergy1()-57,64 fBodyGyro-bandsEnergy1()-1,16 fBodyGyro-bandsEnergy1()-17,32 fBodyGyro-bandsEnergy1()-33,48 fBodyGyro-bandsEnergy1()-49,64 fBodyGyro-bandsEnergy1()-1,24 fBodyGyro-bandsEnergy1()-25,48 fBodyGyro-bandsEnergy2()-1,8 fBodyGyro-bandsEnergy2()-9,16 fBodyGyro-bandsEnergy2()-17,24 fBodyGyro-bandsEnergy2()-25,32 fBodyGyro-bandsEnergy2()-33,40 fBodyGyro-bandsEnergy2()-41,48 fBodyGyro-bandsEnergy2()-49,56 fBodyGyro-bandsEnergy2()-57,64 fBodyGyro-bandsEnergy2()-1,16 fBodyGyro-bandsEnergy2()-17,32 fBodyGyro-bandsEnergy2()-33,48 fBodyGyro-bandsEnergy2()-49,64 fBodyGyro-bandsEnergy2()-1,24 fBodyGyro-bandsEnergy2()-25,48 fBodyGyro-bandsEnergy3()-1,8 fBodyGyro-bandsEnergy3()-9,16 fBodyGyro-bandsEnergy3()-17,24 fBodyGyro-bandsEnergy3()-25,32 fBodyGyro-bandsEnergy3()-33,40 fBodyGyro-bandsEnergy3()-41,48 fBodyGyro-bandsEnergy3()-49,56 fBodyGyro-bandsEnergy3()-57,64 fBodyGyro-bandsEnergy3()-1,16 fBodyGyro-bandsEnergy3()-17,32 fBodyGyro-bandsEnergy3()-33,48 fBodyGyro-bandsEnergy3()-49,64 fBodyGyro-bandsEnergy3()-1,24 fBodyGyro-bandsEnergy3()-25,48 fBodyAccMag-mean() fBodyAccMag-std() fBodyAccMag-mad() fBodyAccMag-max() fBodyAccMag-min() fBodyAccMag-sma() fBodyAccMag-energy() fBodyAccMag-iqr() fBodyAccMag-entropy() fBodyAccMag-maxInds fBodyAccMag-meanFreq() fBodyAccMag-skewness() fBodyAccMag-kurtosis() fBodyBodyAccJerkMag-mean() fBodyBodyAccJerkMag-std() fBodyBodyAccJerkMag-mad() fBodyBodyAccJerkMag-max() fBodyBodyAccJerkMag-min() fBodyBodyAccJerkMag-sma() fBodyBodyAccJerkMag-energy() fBodyBodyAccJerkMag-iqr() fBodyBodyAccJerkMag-entropy() fBodyBodyAccJerkMag-maxInds fBodyBodyAccJerkMag-meanFreq() fBodyBodyAccJerkMag-skewness() fBodyBodyAccJerkMag-kurtosis() fBodyBodyGyroMag-mean() fBodyBodyGyroMag-std() fBodyBodyGyroMag-mad() fBodyBodyGyroMag-max() fBodyBodyGyroMag-min() fBodyBodyGyroMag-sma() fBodyBodyGyroMag-energy() fBodyBodyGyroMag-iqr() fBodyBodyGyroMag-entropy() fBodyBodyGyroMag-maxInds fBodyBodyGyroMag-meanFreq() fBodyBodyGyroMag-skewness() fBodyBodyGyroMag-kurtosis() fBodyBodyGyroJerkMag-mean() fBodyBodyGyroJerkMag-std() fBodyBodyGyroJerkMag-mad() fBodyBodyGyroJerkMag-max() fBodyBodyGyroJerkMag-min() fBodyBodyGyroJerkMag-sma() fBodyBodyGyroJerkMag-energy() fBodyBodyGyroJerkMag-iqr() fBodyBodyGyroJerkMag-entropy() fBodyBodyGyroJerkMag-maxInds fBodyBodyGyroJerkMag-meanFreq() fBodyBodyGyroJerkMag-skewness() fBodyBodyGyroJerkMag-kurtosis() angle(tBodyAccMean,gravity) angle(tBodyAccJerkMean),gravityMean) angle(tBodyGyroMean,gravityMean) angle(tBodyGyroJerkMean,gravityMean) angle(X,gravityMean) angle(Y,gravityMean) angle(Z,gravityMean) \n"
     ]
    }
   ],
   "source": [
    "# Вызов функций с аргументами путей до файлов\n",
    "cleaning_func(path1, path2, path3)\n",
    "cleaning_func(path4, path5, path6)\n",
    "print(features_print_func(path_features_file))\n",
    "labels_decrease(path_train_labels, final_train_labels)\n",
    "labels_decrease(path_test_labels, final_test_labels)"
   ]
  },
  {
   "cell_type": "code",
   "execution_count": 4,
   "metadata": {},
   "outputs": [],
   "source": [
    "# Создание тренировочного и тестового датафреймов\n",
    "train_dataframe = pd.read_csv(path3, sep=\" \")\n",
    "test_dataframe = pd.read_csv(path6, sep=\" \")\n",
    "\n",
    "# Запись меток из файлов\n",
    "train_labels = pd.read_csv(final_train_labels, header=None)\n",
    "test_labels = pd.read_csv(final_test_labels, header=None)"
   ]
  },
  {
   "cell_type": "code",
   "execution_count": 5,
   "metadata": {},
   "outputs": [],
   "source": [
    "# Вспомогательный метод для создания tf.data dataset из датафрейма Pandas\n",
    "def df_to_dataset(dataframe, labels, shuffle=True, batch_size=32):\n",
    "    dataframe = dataframe.copy()\n",
    "    ds = tf.data.Dataset.from_tensor_slices((dict(dataframe), labels))\n",
    "    if shuffle:\n",
    "        ds = ds.shuffle(buffer_size=len(dataframe))\n",
    "    ds = ds.batch(batch_size)\n",
    "    return ds\n",
    "\n",
    "# Создание пайплайнов (из датафреймов в датасет)\n",
    "batch_size = 32 # Размер пакета\n",
    "train_ds = df_to_dataset(train_dataframe, train_labels, batch_size=batch_size)\n",
    "test_ds = df_to_dataset(test_dataframe, test_labels, shuffle=False, batch_size=batch_size)"
   ]
  },
  {
   "cell_type": "code",
   "execution_count": 6,
   "metadata": {},
   "outputs": [],
   "source": [
    "# Создание списка признаков, если они заданы в файле датасета\n",
    "for feature_batch, label_batch in train_ds.take(1):\n",
    "    features = list(feature_batch.keys())\n",
    "\n",
    "# Создание словаря признаков, если данные хранятся в отдельном файле\n",
    "features_dict = {}\n",
    "with open(path_features_file) as file:\n",
    "    for line in file:\n",
    "        key, *value = line.split()\n",
    "        features_dict[key] = value"
   ]
  },
  {
   "cell_type": "code",
   "execution_count": 7,
   "metadata": {},
   "outputs": [],
   "source": [
    "# Создание слоя признаков\n",
    "feature_columns = [] # Столбцы признаков\n",
    "for header in range(0, 561):\n",
    "    feature_columns.append(feature_column.numeric_column((features[header])))\n",
    "feature_layer = tf.keras.layers.DenseFeatures(feature_columns) # Слой признаков"
   ]
  },
  {
   "cell_type": "code",
   "execution_count": 8,
   "metadata": {
    "collapsed": true
   },
   "outputs": [
    {
     "name": "stdout",
     "output_type": "stream",
     "text": [
      "NumericColumn(key='tBodyAcc-mean()-X', shape=(1,), default_value=None, dtype=tf.float32, normalizer_fn=None)\n",
      "WARNING:tensorflow:Layer dense_features_1 is casting an input tensor from dtype float64 to the layer's dtype of float32, which is new behavior in TensorFlow 2.  The layer has dtype float32 because it's dtype defaults to floatx.\n",
      "\n",
      "If you intended to run this layer in float32, you can safely ignore this warning. If in doubt, this warning is likely only an issue if you are porting a TensorFlow 1.X model to TensorFlow 2.\n",
      "\n",
      "To change all layers to have dtype float64 by default, call `tf.keras.backend.set_floatx('float64')`. To change just this layer, pass dtype='float64' to the layer constructor. If you are the author of this layer, you can disable autocasting by passing autocast=False to the base Layer constructor.\n",
      "\n",
      "[[0.27296337]\n",
      " [0.27346438]\n",
      " [0.27752978]\n",
      " [0.24910697]\n",
      " [0.2711866 ]\n",
      " [0.14872362]\n",
      " [0.28300244]\n",
      " [0.28024137]\n",
      " [0.2782633 ]\n",
      " [0.25836396]\n",
      " [0.3308318 ]\n",
      " [0.27466685]\n",
      " [0.24445261]\n",
      " [0.23489885]\n",
      " [0.1561557 ]\n",
      " [0.2793797 ]\n",
      " [0.27451178]\n",
      " [0.25200006]\n",
      " [0.24723145]\n",
      " [0.2783501 ]\n",
      " [0.2748853 ]\n",
      " [0.27311456]\n",
      " [0.27727452]\n",
      " [0.27683604]\n",
      " [0.28504223]\n",
      " [0.1280471 ]\n",
      " [0.22559084]\n",
      " [0.35935047]\n",
      " [0.27190846]\n",
      " [0.28265026]\n",
      " [0.22506213]\n",
      " [0.19526114]]\n"
     ]
    }
   ],
   "source": [
    "# Для теста\n",
    "example_batch = next(iter(train_ds))[0]\n",
    "# Служебный метод для создания столбца признаков и преобразования пакета данных\n",
    "def demo(feature_column):\n",
    "    feature_layer = layers.DenseFeatures(feature_column)\n",
    "    print(feature_column)\n",
    "    print(feature_layer(example_batch).numpy())\n",
    "f_test = feature_column.numeric_column(\"tBodyAcc-mean()-X\")\n",
    "demo(f_test)"
   ]
  },
  {
   "cell_type": "code",
   "execution_count": 9,
   "metadata": {},
   "outputs": [],
   "source": [
    "# Создание модели\n",
    "model = tf.keras.Sequential([\n",
    "    feature_layer,\n",
    "    layers.Dense(128, activation=tf.nn.relu),\n",
    "    layers.Dense(128, activation=tf.nn.relu),\n",
    "    layers.Dense(6, activation=tf.nn.softmax)\n",
    "])\n",
    "\n",
    "# Компиляция модели\n",
    "model.compile(optimizer='adam', loss='sparse_categorical_crossentropy', metrics=['accuracy'], run_eagerly=True)"
   ]
  },
  {
   "cell_type": "code",
   "execution_count": 10,
   "metadata": {},
   "outputs": [
    {
     "name": "stdout",
     "output_type": "stream",
     "text": [
      "Epoch 1/3\n",
      "WARNING:tensorflow:Layer dense_features is casting an input tensor from dtype float64 to the layer's dtype of float32, which is new behavior in TensorFlow 2.  The layer has dtype float32 because it's dtype defaults to floatx.\n",
      "\n",
      "If you intended to run this layer in float32, you can safely ignore this warning. If in doubt, this warning is likely only an issue if you are porting a TensorFlow 1.X model to TensorFlow 2.\n",
      "\n",
      "To change all layers to have dtype float64 by default, call `tf.keras.backend.set_floatx('float64')`. To change just this layer, pass dtype='float64' to the layer constructor. If you are the author of this layer, you can disable autocasting by passing autocast=False to the base Layer constructor.\n",
      "\n",
      "230/230 [==============================] - ETA: 0s - loss: 0.4035 - accuracy: 0.8379\n",
      "Epoch 00001: saving model to ./checkpoint/cp.ckpt\n",
      "230/230 [==============================] - 115s 498ms/step - loss: 0.4035 - accuracy: 0.8379 - val_loss: 0.2689 - val_accuracy: 0.9016\n",
      "Epoch 2/3\n",
      "230/230 [==============================] - ETA: 0s - loss: 0.1357 - accuracy: 0.9470\n",
      "Epoch 00002: saving model to ./checkpoint/cp.ckpt\n",
      "230/230 [==============================] - 113s 490ms/step - loss: 0.1357 - accuracy: 0.9470 - val_loss: 0.2529 - val_accuracy: 0.8928\n",
      "Epoch 3/3\n",
      "230/230 [==============================] - ETA: 0s - loss: 0.1048 - accuracy: 0.9589\n",
      "Epoch 00003: saving model to ./checkpoint/cp.ckpt\n",
      "230/230 [==============================] - 114s 495ms/step - loss: 0.1048 - accuracy: 0.9589 - val_loss: 0.2030 - val_accuracy: 0.9213\n"
     ]
    }
   ],
   "source": [
    "# Для сохранения весов модели\n",
    "checkpoint_path = r\"./checkpoint/cp.ckpt\"\n",
    "cp_callback = tf.keras.callbacks.ModelCheckpoint(filepath=checkpoint_path, save_weights_only=True, verbose=1)\n",
    "\n",
    "# Тренировка модели\n",
    "history = model.fit(train_ds, validation_data=test_ds, epochs=3, callbacks=[cp_callback])"
   ]
  },
  {
   "cell_type": "code",
   "execution_count": 11,
   "metadata": {},
   "outputs": [
    {
     "data": {
      "image/png": "[encoded data removed]",
      "text/plain": [
       "<Figure size 576x576 with 2 Axes>"
      ]
     },
     "metadata": {
      "needs_background": "light"
     },
     "output_type": "display_data"
    }
   ],
   "source": [
    "# Визуализация результатов тренировки\n",
    "import matplotlib.pyplot as plt\n",
    "acc = history.history['accuracy']\n",
    "val_acc = history.history['val_accuracy']\n",
    "loss = history.history['loss']\n",
    "val_loss = history.history['val_loss']\n",
    "epochs_range = range(3)\n",
    "plt.figure(figsize=(8, 8))\n",
    "plt.subplot(1, 2, 1)\n",
    "plt.plot(epochs_range, acc, label='Training Accuracy')\n",
    "plt.plot(epochs_range, val_acc, label='Validation Accuracy')\n",
    "plt.legend(loc='lower right')\n",
    "plt.title('Training and Validation Accuracy')\n",
    "plt.subplot(1, 2, 2)\n",
    "plt.plot(epochs_range, loss, label='Training Loss')\n",
    "plt.plot(epochs_range, val_loss, label='Validation Loss')\n",
    "plt.legend(loc='upper right')\n",
    "plt.title('Training and Validation Loss')\n",
    "plt.show()"
   ]
  },
  {
   "cell_type": "code",
   "execution_count": null,
   "metadata": {},
   "outputs": [],
   "source": []
  }
 ],
 "metadata": {
  "kernelspec": {
   "display_name": "Python 3",
   "language": "python",
   "name": "python3"
  },
  "language_info": {
   "codemirror_mode": {
    "name": "ipython",
    "version": 3
   },
   "file_extension": ".py",
   "mimetype": "text/x-python",
   "name": "python",
   "nbconvert_exporter": "python",
   "pygments_lexer": "ipython3",
   "version": "3.8.3"
  }
 },
 "nbformat": 4,
 "nbformat_minor": 4
}
